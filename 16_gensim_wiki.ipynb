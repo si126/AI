{
  "nbformat": 4,
  "nbformat_minor": 0,
  "metadata": {
    "colab": {
      "name": "16.gensim_wiki.ipynb",
      "provenance": [],
      "collapsed_sections": []
    },
    "kernelspec": {
      "name": "python3",
      "display_name": "Python 3"
    },
    "language_info": {
      "name": "python"
    }
  },
  "cells": [
    {
      "cell_type": "code",
      "execution_count": 1,
      "metadata": {
        "id": "kKMbNmyDfRkm"
      },
      "outputs": [],
      "source": [
        "# ! wget https://dumps.wikimedia.org/zhwiki/20220401/zhwiki-20220401-pages-articles-multistream.xml.bz2"
      ]
    },
    {
      "cell_type": "code",
      "source": [
        "!wget https://dumps.wikimedia.org/zhwiki/20220401/zhwiki-20220401-pages-articles-multistream1.xml-p1p187712.bz2"
      ],
      "metadata": {
        "colab": {
          "base_uri": "https://localhost:8080/"
        },
        "id": "TJ0WiYqifaXK",
        "outputId": "dcd2a1ac-2336-48af-bb2d-2e2b3a829555"
      },
      "execution_count": 2,
      "outputs": [
        {
          "output_type": "stream",
          "name": "stdout",
          "text": [
            "--2022-04-17 07:47:27--  https://dumps.wikimedia.org/zhwiki/20220401/zhwiki-20220401-pages-articles-multistream1.xml-p1p187712.bz2\n",
            "Resolving dumps.wikimedia.org (dumps.wikimedia.org)... 208.80.154.7, 2620:0:861:1:208:80:154:7\n",
            "Connecting to dumps.wikimedia.org (dumps.wikimedia.org)|208.80.154.7|:443... connected.\n",
            "HTTP request sent, awaiting response... 200 OK\n",
            "Length: 215920539 (206M) [application/octet-stream]\n",
            "Saving to: ‘zhwiki-20220401-pages-articles-multistream1.xml-p1p187712.bz2’\n",
            "\n",
            "zhwiki-20220401-pag 100%[===================>] 205.92M  4.49MB/s    in 45s     \n",
            "\n",
            "2022-04-17 07:48:12 (4.62 MB/s) - ‘zhwiki-20220401-pages-articles-multistream1.xml-p1p187712.bz2’ saved [215920539/215920539]\n",
            "\n"
          ]
        }
      ]
    },
    {
      "cell_type": "code",
      "source": [
        "!pip install opencc-python-reimplemented"
      ],
      "metadata": {
        "colab": {
          "base_uri": "https://localhost:8080/"
        },
        "id": "nBgrr-e3fcSL",
        "outputId": "e98c1540-2863-4d2d-fe4f-96a1917834d7"
      },
      "execution_count": 3,
      "outputs": [
        {
          "output_type": "stream",
          "name": "stdout",
          "text": [
            "Collecting opencc-python-reimplemented\n",
            "  Downloading opencc-python-reimplemented-0.1.6.tar.gz (484 kB)\n",
            "\u001b[?25l\r\u001b[K     |▊                               | 10 kB 17.4 MB/s eta 0:00:01\r\u001b[K     |█▍                              | 20 kB 13.7 MB/s eta 0:00:01\r\u001b[K     |██                              | 30 kB 10.1 MB/s eta 0:00:01\r\u001b[K     |██▊                             | 40 kB 9.0 MB/s eta 0:00:01\r\u001b[K     |███▍                            | 51 kB 4.3 MB/s eta 0:00:01\r\u001b[K     |████                            | 61 kB 5.1 MB/s eta 0:00:01\r\u001b[K     |████▊                           | 71 kB 5.6 MB/s eta 0:00:01\r\u001b[K     |█████▍                          | 81 kB 5.8 MB/s eta 0:00:01\r\u001b[K     |██████                          | 92 kB 6.4 MB/s eta 0:00:01\r\u001b[K     |██████▊                         | 102 kB 5.1 MB/s eta 0:00:01\r\u001b[K     |███████▍                        | 112 kB 5.1 MB/s eta 0:00:01\r\u001b[K     |████████▏                       | 122 kB 5.1 MB/s eta 0:00:01\r\u001b[K     |████████▉                       | 133 kB 5.1 MB/s eta 0:00:01\r\u001b[K     |█████████▌                      | 143 kB 5.1 MB/s eta 0:00:01\r\u001b[K     |██████████▏                     | 153 kB 5.1 MB/s eta 0:00:01\r\u001b[K     |██████████▉                     | 163 kB 5.1 MB/s eta 0:00:01\r\u001b[K     |███████████▌                    | 174 kB 5.1 MB/s eta 0:00:01\r\u001b[K     |████████████▏                   | 184 kB 5.1 MB/s eta 0:00:01\r\u001b[K     |████████████▉                   | 194 kB 5.1 MB/s eta 0:00:01\r\u001b[K     |█████████████▌                  | 204 kB 5.1 MB/s eta 0:00:01\r\u001b[K     |██████████████▏                 | 215 kB 5.1 MB/s eta 0:00:01\r\u001b[K     |██████████████▉                 | 225 kB 5.1 MB/s eta 0:00:01\r\u001b[K     |███████████████▌                | 235 kB 5.1 MB/s eta 0:00:01\r\u001b[K     |████████████████▎               | 245 kB 5.1 MB/s eta 0:00:01\r\u001b[K     |█████████████████               | 256 kB 5.1 MB/s eta 0:00:01\r\u001b[K     |█████████████████▋              | 266 kB 5.1 MB/s eta 0:00:01\r\u001b[K     |██████████████████▎             | 276 kB 5.1 MB/s eta 0:00:01\r\u001b[K     |███████████████████             | 286 kB 5.1 MB/s eta 0:00:01\r\u001b[K     |███████████████████▋            | 296 kB 5.1 MB/s eta 0:00:01\r\u001b[K     |████████████████████▎           | 307 kB 5.1 MB/s eta 0:00:01\r\u001b[K     |█████████████████████           | 317 kB 5.1 MB/s eta 0:00:01\r\u001b[K     |█████████████████████▋          | 327 kB 5.1 MB/s eta 0:00:01\r\u001b[K     |██████████████████████▎         | 337 kB 5.1 MB/s eta 0:00:01\r\u001b[K     |███████████████████████         | 348 kB 5.1 MB/s eta 0:00:01\r\u001b[K     |███████████████████████▊        | 358 kB 5.1 MB/s eta 0:00:01\r\u001b[K     |████████████████████████▍       | 368 kB 5.1 MB/s eta 0:00:01\r\u001b[K     |█████████████████████████       | 378 kB 5.1 MB/s eta 0:00:01\r\u001b[K     |█████████████████████████▊      | 389 kB 5.1 MB/s eta 0:00:01\r\u001b[K     |██████████████████████████▍     | 399 kB 5.1 MB/s eta 0:00:01\r\u001b[K     |███████████████████████████     | 409 kB 5.1 MB/s eta 0:00:01\r\u001b[K     |███████████████████████████▊    | 419 kB 5.1 MB/s eta 0:00:01\r\u001b[K     |████████████████████████████▍   | 430 kB 5.1 MB/s eta 0:00:01\r\u001b[K     |█████████████████████████████   | 440 kB 5.1 MB/s eta 0:00:01\r\u001b[K     |█████████████████████████████▊  | 450 kB 5.1 MB/s eta 0:00:01\r\u001b[K     |██████████████████████████████▍ | 460 kB 5.1 MB/s eta 0:00:01\r\u001b[K     |███████████████████████████████ | 471 kB 5.1 MB/s eta 0:00:01\r\u001b[K     |███████████████████████████████▉| 481 kB 5.1 MB/s eta 0:00:01\r\u001b[K     |████████████████████████████████| 484 kB 5.1 MB/s \n",
            "\u001b[?25hBuilding wheels for collected packages: opencc-python-reimplemented\n",
            "  Building wheel for opencc-python-reimplemented (setup.py) ... \u001b[?25l\u001b[?25hdone\n",
            "  Created wheel for opencc-python-reimplemented: filename=opencc_python_reimplemented-0.1.6-py2.py3-none-any.whl size=486152 sha256=4e8d3bb1bc4535d80e1c6d23bd5a42b39bfcb56f5c51218748c3db5d2eefc207\n",
            "  Stored in directory: /root/.cache/pip/wheels/4e/e2/60/d062d260be08788bb389521544a8fc173de9a9a78d6a593344\n",
            "Successfully built opencc-python-reimplemented\n",
            "Installing collected packages: opencc-python-reimplemented\n",
            "Successfully installed opencc-python-reimplemented-0.1.6\n"
          ]
        }
      ]
    },
    {
      "cell_type": "code",
      "source": [
        "from gensim.corpora import WikiCorpus\n",
        "\n",
        "wiki_corpus = WikiCorpus('zhwiki-20220401-pages-articles-multistream1.xml-p1p187712.bz2', dictionary={})"
      ],
      "metadata": {
        "id": "ou8YavbKfq31"
      },
      "execution_count": 4,
      "outputs": []
    },
    {
      "cell_type": "code",
      "source": [
        "wiki_corpus"
      ],
      "metadata": {
        "colab": {
          "base_uri": "https://localhost:8080/"
        },
        "id": "bW9M3UBRfsxR",
        "outputId": "03d28f49-b006-4766-be87-976f9a35feb9"
      },
      "execution_count": 5,
      "outputs": [
        {
          "output_type": "execute_result",
          "data": {
            "text/plain": [
              "<gensim.corpora.wikicorpus.WikiCorpus at 0x7ffaebfe2050>"
            ]
          },
          "metadata": {},
          "execution_count": 5
        }
      ]
    },
    {
      "cell_type": "code",
      "source": [
        "next(iter(wiki_corpus.get_texts()))[:10]"
      ],
      "metadata": {
        "colab": {
          "base_uri": "https://localhost:8080/"
        },
        "id": "E_W63P8Ufuk2",
        "outputId": "0451aa02-997f-4591-b1fd-a5725ac9d271"
      },
      "execution_count": 6,
      "outputs": [
        {
          "output_type": "execute_result",
          "data": {
            "text/plain": [
              "['歐幾里得',\n",
              " '西元前三世紀的古希臘數學家',\n",
              " '現在被認為是幾何之父',\n",
              " '此畫為拉斐爾的作品',\n",
              " '雅典學院',\n",
              " '数学',\n",
              " '是研究數量',\n",
              " '从某种角度看屬於形式科學的一種',\n",
              " '數學利用抽象化和邏輯推理',\n",
              " '從計數']"
            ]
          },
          "metadata": {},
          "execution_count": 6
        }
      ]
    },
    {
      "cell_type": "code",
      "source": [
        "text_num = 0\n",
        "\n",
        "with open('wiki_text.txt', 'w', encoding='utf-8') as f:\n",
        "    for text in wiki_corpus.get_texts():\n",
        "        f.write(' '.join(text)+'\\n')\n",
        "        text_num += 1\n",
        "        if text_num % 10000 == 0:\n",
        "            print('{} articles processed.'.format(text_num))\n",
        "\n",
        "    print('{} articles processed.'.format(text_num))"
      ],
      "metadata": {
        "colab": {
          "base_uri": "https://localhost:8080/"
        },
        "id": "NiBuEgX7fwth",
        "outputId": "db842495-be87-438f-c6b7-758161aea506"
      },
      "execution_count": 7,
      "outputs": [
        {
          "output_type": "stream",
          "name": "stdout",
          "text": [
            "10000 articles processed.\n",
            "20000 articles processed.\n",
            "30000 articles processed.\n",
            "32329 articles processed.\n"
          ]
        }
      ]
    },
    {
      "cell_type": "code",
      "source": [
        "import jieba\n",
        "from opencc import OpenCC\n",
        "\n",
        "\n",
        "# Initial\n",
        "cc = OpenCC('s2t')\n",
        "train_data = open('wiki_text.txt', 'r', encoding='utf-8').read()\n",
        "train_data = cc.convert(train_data)\n",
        "train_data = jieba.lcut(train_data)\n",
        "train_data = [word for word in train_data if word != '']\n",
        "train_data = ' '.join(train_data)\n",
        "open('seg.txt', 'w', encoding='utf-8').write(train_data)"
      ],
      "metadata": {
        "colab": {
          "base_uri": "https://localhost:8080/"
        },
        "id": "Q9M0nLjPf0fn",
        "outputId": "951b1c71-1db0-44c1-f14d-96b2dd35fb99"
      },
      "execution_count": 8,
      "outputs": [
        {
          "output_type": "stream",
          "name": "stderr",
          "text": [
            "Building prefix dict from the default dictionary ...\n",
            "Dumping model to file cache /tmp/jieba.cache\n",
            "Loading model cost 1.017 seconds.\n",
            "Prefix dict has been built successfully.\n"
          ]
        },
        {
          "output_type": "execute_result",
          "data": {
            "text/plain": [
              "129900316"
            ]
          },
          "metadata": {},
          "execution_count": 8
        }
      ]
    },
    {
      "cell_type": "code",
      "source": [
        "from gensim.models import word2vec\n",
        "\n",
        "\n",
        "# Settings\n",
        "seed = 666\n",
        "sg = 0\n",
        "window_size = 10\n",
        "vector_size = 100\n",
        "min_count = 1\n",
        "workers = 8\n",
        "epochs = 5\n",
        "batch_words = 10000\n",
        "\n",
        "train_data = word2vec.LineSentence('seg.txt')\n",
        "model = word2vec.Word2Vec(\n",
        "    train_data,\n",
        "    min_count=min_count,\n",
        "    size=vector_size,\n",
        "    workers=workers,\n",
        "    iter=epochs,\n",
        "    window=window_size,\n",
        "    sg=sg,\n",
        "    seed=seed,\n",
        "    batch_words=batch_words\n",
        ")\n",
        "\n",
        "model.save('word2vec.model')"
      ],
      "metadata": {
        "id": "ANp_pZ5Kg_-R"
      },
      "execution_count": 9,
      "outputs": []
    },
    {
      "cell_type": "code",
      "source": [
        "from gensim.models import word2vec\n",
        "\n",
        "string = '電腦'\n",
        "model = word2vec.Word2Vec.load('word2vec.model')\n",
        "print(string)\n",
        "\n",
        "for item in model.wv.most_similar(string):\n",
        "    print(item)"
      ],
      "metadata": {
        "colab": {
          "base_uri": "https://localhost:8080/"
        },
        "id": "9frxapt3o9NE",
        "outputId": "0bb2f91d-f2b6-4c1e-99ea-02e225fd47e5"
      },
      "execution_count": 10,
      "outputs": [
        {
          "output_type": "stream",
          "name": "stdout",
          "text": [
            "電腦\n",
            "('計算機', 0.7770804166793823)\n",
            "('軟體', 0.7660993933677673)\n",
            "('硬體', 0.7558894157409668)\n",
            "('pda', 0.7457395792007446)\n",
            "('遊戲機', 0.7406581044197083)\n",
            "('程式', 0.7317909002304077)\n",
            "('pc', 0.7210907936096191)\n",
            "('ibm', 0.7112294435501099)\n",
            "('手機', 0.7037252187728882)\n",
            "('硬件', 0.7028473019599915)\n"
          ]
        }
      ]
    }
  ]
}